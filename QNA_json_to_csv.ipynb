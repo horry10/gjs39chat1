{
 "cells": [
  {
   "cell_type": "code",
   "execution_count": 1,
   "id": "025fce42",
   "metadata": {},
   "outputs": [],
   "source": [
    "import json"
   ]
  },
  {
   "cell_type": "code",
   "execution_count": 2,
   "id": "114ed159",
   "metadata": {},
   "outputs": [],
   "source": [
    " with open('./data.json', 'r') as f:\n",
    "    data = json.load(f)\n",
    "#     json_data = json.dumps(data, ensure_ascii = False)"
   ]
  },
  {
   "cell_type": "code",
   "execution_count": 4,
   "id": "20c10615",
   "metadata": {},
   "outputs": [
    {
     "data": {
      "text/plain": [
       "list"
      ]
     },
     "execution_count": 4,
     "metadata": {},
     "output_type": "execute_result"
    }
   ],
   "source": [
    "type(data)"
   ]
  },
  {
   "cell_type": "code",
   "execution_count": 106,
   "id": "e04346d7",
   "metadata": {},
   "outputs": [
    {
     "data": {
      "text/plain": [
       "9696"
      ]
     },
     "execution_count": 106,
     "metadata": {},
     "output_type": "execute_result"
    }
   ],
   "source": [
    "len(data)"
   ]
  },
  {
   "cell_type": "code",
   "execution_count": 9,
   "id": "b3aa3523",
   "metadata": {},
   "outputs": [
    {
     "data": {
      "text/plain": [
       "'하루가 지나도 연락이 안오면 어떻게 해요?'"
      ]
     },
     "execution_count": 9,
     "metadata": {},
     "output_type": "execute_result"
    }
   ],
   "source": [
    "data[4]['고객질문(요청)']"
   ]
  },
  {
   "cell_type": "code",
   "execution_count": 18,
   "id": "5152c402",
   "metadata": {},
   "outputs": [],
   "source": [
    "import pandas as pd\n",
    "import numpy as np"
   ]
  },
  {
   "cell_type": "code",
   "execution_count": 37,
   "id": "41cccd65",
   "metadata": {},
   "outputs": [],
   "source": [
    "df3 = pd.DataFrame(data)"
   ]
  },
  {
   "cell_type": "code",
   "execution_count": 92,
   "id": "ecc99ad1",
   "metadata": {},
   "outputs": [],
   "source": [
    "df3['상담사답변'].replace('', np.nan, inplace=True)"
   ]
  },
  {
   "cell_type": "code",
   "execution_count": 93,
   "id": "e637cdfe",
   "metadata": {},
   "outputs": [],
   "source": [
    "df3.dropna(subset=['상담사답변'], inplace=True)"
   ]
  },
  {
   "cell_type": "code",
   "execution_count": 74,
   "id": "e24b7ed3",
   "metadata": {},
   "outputs": [],
   "source": [
    "df4 = pd.DataFrame(df3['고객질문(요청)'])"
   ]
  },
  {
   "cell_type": "code",
   "execution_count": 96,
   "id": "1d522aba",
   "metadata": {},
   "outputs": [],
   "source": [
    "df3.reset_index(inplace=True)"
   ]
  },
  {
   "cell_type": "code",
   "execution_count": 84,
   "id": "200b85d5",
   "metadata": {},
   "outputs": [],
   "source": [
    "df4['고객질문(요청)'].replace('', np.nan, inplace=True)"
   ]
  },
  {
   "cell_type": "code",
   "execution_count": 86,
   "id": "6f17e8ac",
   "metadata": {},
   "outputs": [],
   "source": [
    "df4.dropna(subset=['고객질문(요청)'], inplace=True)"
   ]
  },
  {
   "cell_type": "code",
   "execution_count": 98,
   "id": "f012965d",
   "metadata": {},
   "outputs": [],
   "source": [
    "df4.reset_index(inplace=True)"
   ]
  },
  {
   "cell_type": "code",
   "execution_count": 103,
   "id": "8dc4377a",
   "metadata": {},
   "outputs": [],
   "source": [
    "df4['상담사답변'] = df3['상담사답변']"
   ]
  },
  {
   "cell_type": "code",
   "execution_count": 104,
   "id": "ec9ac3ad",
   "metadata": {},
   "outputs": [
    {
     "data": {
      "text/html": [
       "<div>\n",
       "<style scoped>\n",
       "    .dataframe tbody tr th:only-of-type {\n",
       "        vertical-align: middle;\n",
       "    }\n",
       "\n",
       "    .dataframe tbody tr th {\n",
       "        vertical-align: top;\n",
       "    }\n",
       "\n",
       "    .dataframe thead th {\n",
       "        text-align: right;\n",
       "    }\n",
       "</style>\n",
       "<table border=\"1\" class=\"dataframe\">\n",
       "  <thead>\n",
       "    <tr style=\"text-align: right;\">\n",
       "      <th></th>\n",
       "      <th>고객질문(요청)</th>\n",
       "      <th>상담사답변</th>\n",
       "    </tr>\n",
       "  </thead>\n",
       "  <tbody>\n",
       "    <tr>\n",
       "      <th>0</th>\n",
       "      <td>코로나 검사결과는 언제 나와요?</td>\n",
       "      <td>6시간에서 하루 정도 소요됩니다.</td>\n",
       "    </tr>\n",
       "    <tr>\n",
       "      <th>1</th>\n",
       "      <td>결과는 어떻게 알 수 있어요?</td>\n",
       "      <td>문자로 양성, 음성 여부를 알려줍니다. .</td>\n",
       "    </tr>\n",
       "    <tr>\n",
       "      <th>2</th>\n",
       "      <td>하루가 지나도 연락이 안오면 어떻게 해요?</td>\n",
       "      <td>검사 받으신 진료소로 전화주셔서 확인하시면 됩니다.</td>\n",
       "    </tr>\n",
       "    <tr>\n",
       "      <th>3</th>\n",
       "      <td>친구 아버지가 돌아가셨는데 장례식장에 가도 돼요?</td>\n",
       "      <td>가셔도 되지만, 가급적 사람들이 많이 모이는 곳은 피하시는 것이 좋습니다.</td>\n",
       "    </tr>\n",
       "    <tr>\n",
       "      <th>4</th>\n",
       "      <td>장례식장에 마스크 안끼고 가도 돼요?</td>\n",
       "      <td>마스크는 꼭 착용하셔야 합니다.</td>\n",
       "    </tr>\n",
       "    <tr>\n",
       "      <th>...</th>\n",
       "      <td>...</td>\n",
       "      <td>...</td>\n",
       "    </tr>\n",
       "    <tr>\n",
       "      <th>3577</th>\n",
       "      <td>어떤 바이러스인가요?</td>\n",
       "      <td>유익한 시간 되셨길 바라며, 질병관리청 OOO이에요.</td>\n",
       "    </tr>\n",
       "    <tr>\n",
       "      <th>3578</th>\n",
       "      <td>사람에게 전파가능한 바이러스는 몇종이 있나요?</td>\n",
       "      <td>말씀해주신 지역은 여행목적으로는 방문이 가능해요.</td>\n",
       "    </tr>\n",
       "    <tr>\n",
       "      <th>3579</th>\n",
       "      <td>자세히 알려주세요</td>\n",
       "      <td>원칙상으로는 괜찮습니다.</td>\n",
       "    </tr>\n",
       "    <tr>\n",
       "      <th>3580</th>\n",
       "      <td>사스유사바이러스와 얼마나 일치하나요?</td>\n",
       "      <td>함께, 폐라는 공통점이 있습니다.</td>\n",
       "    </tr>\n",
       "    <tr>\n",
       "      <th>3581</th>\n",
       "      <td>사스바이러스도 중국에서 발병한걸도 아는데 맞나요?</td>\n",
       "      <td>정확하게는, 증명된 것이 없다고 알고 있습니다.</td>\n",
       "    </tr>\n",
       "  </tbody>\n",
       "</table>\n",
       "<p>3582 rows × 2 columns</p>\n",
       "</div>"
      ],
      "text/plain": [
       "                          고객질문(요청)                                       상담사답변\n",
       "0               코로나 검사결과는 언제 나와요?                          6시간에서 하루 정도 소요됩니다. \n",
       "1                결과는 어떻게 알 수 있어요?                     문자로 양성, 음성 여부를 알려줍니다. . \n",
       "2          하루가 지나도 연락이 안오면 어떻게 해요?               검사 받으신 진료소로 전화주셔서 확인하시면 됩니다. \n",
       "3     친구 아버지가 돌아가셨는데 장례식장에 가도 돼요?   가셔도 되지만, 가급적 사람들이 많이 모이는 곳은 피하시는 것이 좋습니다. \n",
       "4             장례식장에 마스크 안끼고 가도 돼요?                          마스크는 꼭 착용하셔야 합니다. \n",
       "...                            ...                                         ...\n",
       "3577                   어떤 바이러스인가요?               유익한 시간 되셨길 바라며, 질병관리청 OOO이에요.\n",
       "3578     사람에게 전파가능한 바이러스는 몇종이 있나요?                 말씀해주신 지역은 여행목적으로는 방문이 가능해요.\n",
       "3579                     자세히 알려주세요                               원칙상으로는 괜찮습니다.\n",
       "3580          사스유사바이러스와 얼마나 일치하나요?                          함께, 폐라는 공통점이 있습니다.\n",
       "3581   사스바이러스도 중국에서 발병한걸도 아는데 맞나요?                  정확하게는, 증명된 것이 없다고 알고 있습니다.\n",
       "\n",
       "[3582 rows x 2 columns]"
      ]
     },
     "execution_count": 104,
     "metadata": {},
     "output_type": "execute_result"
    }
   ],
   "source": [
    "df4"
   ]
  },
  {
   "cell_type": "code",
   "execution_count": 105,
   "id": "277db973",
   "metadata": {},
   "outputs": [],
   "source": [
    "df4.to_csv('data.csv',encoding='utf-8-sig')"
   ]
  },
  {
   "cell_type": "code",
   "execution_count": null,
   "id": "0e9f0204",
   "metadata": {},
   "outputs": [],
   "source": []
  }
 ],
 "metadata": {
  "kernelspec": {
   "display_name": "Python 3",
   "language": "python",
   "name": "python3"
  },
  "language_info": {
   "codemirror_mode": {
    "name": "ipython",
    "version": 3
   },
   "file_extension": ".py",
   "mimetype": "text/x-python",
   "name": "python",
   "nbconvert_exporter": "python",
   "pygments_lexer": "ipython3",
   "version": "3.8.8"
  }
 },
 "nbformat": 4,
 "nbformat_minor": 5
}
