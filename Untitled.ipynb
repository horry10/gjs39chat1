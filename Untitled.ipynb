{
 "cells": [
  {
   "cell_type": "code",
   "execution_count": 1,
   "id": "b5a331bd",
   "metadata": {},
   "outputs": [],
   "source": [
    "import pandas as pd"
   ]
  },
  {
   "cell_type": "code",
   "execution_count": 2,
   "id": "6205f51e",
   "metadata": {},
   "outputs": [
    {
     "name": "stderr",
     "output_type": "stream",
     "text": [
      "IOPub data rate exceeded.\n",
      "The notebook server will temporarily stop sending output\n",
      "to the client in order to avoid crashing it.\n",
      "To change this limit, set the config variable\n",
      "`--NotebookApp.iopub_data_rate_limit`.\n",
      "\n",
      "Current values:\n",
      "NotebookApp.iopub_data_rate_limit=1000000.0 (bytes/sec)\n",
      "NotebookApp.rate_limit_window=3.0 (secs)\n",
      "\n"
     ]
    }
   ],
   "source": [
    "import json\n",
    "\n",
    "with open('aaa.json', 'r') as f:\n",
    "    json_data = json.load(f)\n",
    "print(json.dumps(json_data) )"
   ]
  },
  {
   "cell_type": "code",
   "execution_count": 8,
   "id": "7fa88943",
   "metadata": {},
   "outputs": [
    {
     "ename": "SyntaxError",
     "evalue": "invalid syntax (<ipython-input-8-1f9c30b6b5d7>, line 3)",
     "output_type": "error",
     "traceback": [
      "\u001b[1;36m  File \u001b[1;32m\"<ipython-input-8-1f9c30b6b5d7>\"\u001b[1;36m, line \u001b[1;32m3\u001b[0m\n\u001b[1;33m    json3.data.forEach((item){\u001b[0m\n\u001b[1;37m                             ^\u001b[0m\n\u001b[1;31mSyntaxError\u001b[0m\u001b[1;31m:\u001b[0m invalid syntax\n"
     ]
    }
   ],
   "source": [
    "result3 = []\n",
    "\n",
    "json3.data.forEach((item){\n",
    "  result3.push([item.name, parseInt(item.value)]);\n",
    "})\n",
    "\n",
    "console.log(result3);"
   ]
  },
  {
   "cell_type": "code",
   "execution_count": 37,
   "id": "59142560",
   "metadata": {},
   "outputs": [
    {
     "data": {
      "text/plain": [
       "{'도메인': '질병관리본부',\n",
       " '카테고리': '약품/식품',\n",
       " '대화셋일련번호': 'C4',\n",
       " '화자': '상담사',\n",
       " '문장번호': '2',\n",
       " '고객의도': '',\n",
       " '상담사의도': '검사 결과',\n",
       " 'QA': 'A',\n",
       " '고객질문(요청)': '',\n",
       " '상담사질문(요청)': '',\n",
       " '고객답변': '',\n",
       " '상담사답변': '6시간에서 하루 정도 소요됩니다. ',\n",
       " '개체명 ': '6시간, 하루, 정도, 소요',\n",
       " '용어사전': '6시간/시간/ 하루/시간',\n",
       " '지식베이스': '하루,시간'}"
      ]
     },
     "execution_count": 37,
     "metadata": {},
     "output_type": "execute_result"
    }
   ],
   "source": [
    "json_data[1]"
   ]
  },
  {
   "cell_type": "code",
   "execution_count": 36,
   "id": "6edc5bbb",
   "metadata": {},
   "outputs": [
    {
     "data": {
      "text/plain": [
       "'6시간에서 하루 정도 소요됩니다. '"
      ]
     },
     "execution_count": 36,
     "metadata": {},
     "output_type": "execute_result"
    }
   ],
   "source": [
    "json_data[1][\"상담사답변\"]"
   ]
  },
  {
   "cell_type": "code",
   "execution_count": 81,
   "id": "d3d19625",
   "metadata": {},
   "outputs": [],
   "source": [
    "Q = []\n",
    "A = []\n",
    "for i in range(len(json_data)):\n",
    "    if json_data[i][\"화자\"] == \"상담사\":\n",
    "        A.append(json_data[i][\"상담사답변\"])\n",
    "        A.append(json_data[i][\"상담사질문(요청)\"])\n",
    "for i in range(len(json_data)):\n",
    "    if json_data[i][\"화자\"] == \"고객\":\n",
    "        Q.append(json_data[i][\"고객답변\"])\n",
    "        Q.append(json_data[i][\"고객질문(요청)\"])"
   ]
  },
  {
   "cell_type": "code",
   "execution_count": 100,
   "id": "12c894ea",
   "metadata": {},
   "outputs": [
    {
     "data": {
      "text/plain": [
       "'C4'"
      ]
     },
     "execution_count": 100,
     "metadata": {},
     "output_type": "execute_result"
    }
   ],
   "source": [
    "json_data[0]['대화셋일련번호']"
   ]
  },
  {
   "cell_type": "code",
   "execution_count": 48,
   "id": "67d5c3d8",
   "metadata": {},
   "outputs": [
    {
     "name": "stderr",
     "output_type": "stream",
     "text": [
      "<>:5: SyntaxWarning: \"is not\" with a literal. Did you mean \"!=\"?\n",
      "<>:7: SyntaxWarning: \"is not\" with a literal. Did you mean \"!=\"?\n",
      "<>:11: SyntaxWarning: \"is not\" with a literal. Did you mean \"!=\"?\n",
      "<>:13: SyntaxWarning: \"is not\" with a literal. Did you mean \"!=\"?\n",
      "<>:5: SyntaxWarning: \"is not\" with a literal. Did you mean \"!=\"?\n",
      "<>:7: SyntaxWarning: \"is not\" with a literal. Did you mean \"!=\"?\n",
      "<>:11: SyntaxWarning: \"is not\" with a literal. Did you mean \"!=\"?\n",
      "<>:13: SyntaxWarning: \"is not\" with a literal. Did you mean \"!=\"?\n",
      "<ipython-input-48-5acb1c1401ea>:5: SyntaxWarning: \"is not\" with a literal. Did you mean \"!=\"?\n",
      "  if json_data[i][\"상담사답변\"] is not '':\n",
      "<ipython-input-48-5acb1c1401ea>:7: SyntaxWarning: \"is not\" with a literal. Did you mean \"!=\"?\n",
      "  if json_data[i][\"상담사질문(요청)\"] is not '':\n",
      "<ipython-input-48-5acb1c1401ea>:11: SyntaxWarning: \"is not\" with a literal. Did you mean \"!=\"?\n",
      "  if json_data[i][\"고객답변\"] is not '':\n",
      "<ipython-input-48-5acb1c1401ea>:13: SyntaxWarning: \"is not\" with a literal. Did you mean \"!=\"?\n",
      "  if json_data[i][\"고객질문(요청)\"] is not '':\n"
     ]
    }
   ],
   "source": [
    "Q = []\n",
    "A = []\n",
    "for i in range(len(json_data)):\n",
    "    if json_data[i][\"화자\"] == \"상담사\":\n",
    "        if json_data[i][\"상담사답변\"] is not '':\n",
    "            A.append(json_data[i][\"상담사답변\"])\n",
    "        if json_data[i][\"상담사질문(요청)\"] is not '':\n",
    "            A.append(json_data[i][\"상담사질문(요청)\"])\n",
    "for i in range(len(json_data)):\n",
    "    if json_data[i][\"화자\"] == \"고객\":\n",
    "        if json_data[i][\"고객답변\"] is not '':\n",
    "            Q.append(json_data[i][\"고객답변\"])\n",
    "        if json_data[i][\"고객질문(요청)\"] is not '':\n",
    "            Q.append(json_data[i][\"고객질문(요청)\"])"
   ]
  },
  {
   "cell_type": "code",
   "execution_count": 63,
   "id": "080a02fb",
   "metadata": {},
   "outputs": [
    {
     "name": "stderr",
     "output_type": "stream",
     "text": [
      "<>:5: SyntaxWarning: \"is not\" with a literal. Did you mean \"!=\"?\n",
      "<>:9: SyntaxWarning: \"is not\" with a literal. Did you mean \"!=\"?\n",
      "<>:5: SyntaxWarning: \"is not\" with a literal. Did you mean \"!=\"?\n",
      "<>:9: SyntaxWarning: \"is not\" with a literal. Did you mean \"!=\"?\n",
      "<ipython-input-63-f49e87d81ae7>:5: SyntaxWarning: \"is not\" with a literal. Did you mean \"!=\"?\n",
      "  if json_data[i][\"상담사질문(요청)\"] is not '':\n",
      "<ipython-input-63-f49e87d81ae7>:9: SyntaxWarning: \"is not\" with a literal. Did you mean \"!=\"?\n",
      "  if json_data[i][\"고객답변\"] is not '':\n"
     ]
    }
   ],
   "source": [
    "QQ = []\n",
    "AA = []\n",
    "for i in range(len(json_data)):\n",
    "    if json_data[i][\"화자\"] == \"상담사\":\n",
    "        if json_data[i][\"상담사질문(요청)\"] is not '':\n",
    "            QQ.append(json_data[i][\"상담사질문(요청)\"])\n",
    "for i in range(len(json_data)):\n",
    "    if json_data[i][\"화자\"] == \"고객\":\n",
    "        if json_data[i][\"고객답변\"] is not '':\n",
    "            AA.append(json_data[i][\"고객답변\"])"
   ]
  },
  {
   "cell_type": "code",
   "execution_count": 65,
   "id": "e9ae246e",
   "metadata": {},
   "outputs": [
    {
     "data": {
      "text/plain": [
       "1292"
      ]
     },
     "execution_count": 65,
     "metadata": {},
     "output_type": "execute_result"
    }
   ],
   "source": [
    "len(AA)"
   ]
  },
  {
   "cell_type": "code",
   "execution_count": 57,
   "id": "33cd2c86",
   "metadata": {},
   "outputs": [
    {
     "name": "stderr",
     "output_type": "stream",
     "text": [
      "<>:5: SyntaxWarning: \"is not\" with a literal. Did you mean \"!=\"?\n",
      "<>:9: SyntaxWarning: \"is not\" with a literal. Did you mean \"!=\"?\n",
      "<>:5: SyntaxWarning: \"is not\" with a literal. Did you mean \"!=\"?\n",
      "<>:9: SyntaxWarning: \"is not\" with a literal. Did you mean \"!=\"?\n",
      "<ipython-input-57-eee72e1cd2e1>:5: SyntaxWarning: \"is not\" with a literal. Did you mean \"!=\"?\n",
      "  if json_data[i][\"상담사답변\"] is not '':\n",
      "<ipython-input-57-eee72e1cd2e1>:9: SyntaxWarning: \"is not\" with a literal. Did you mean \"!=\"?\n",
      "  if json_data[i][\"고객질문(요청)\"] is not '':\n"
     ]
    }
   ],
   "source": [
    "QQQ = []\n",
    "AAA = []\n",
    "for i in range(len(json_data)):\n",
    "    if json_data[i][\"화자\"] == \"상담사\":\n",
    "        if json_data[i][\"상담사답변\"] is not '':\n",
    "            AAA.append(json_data[i][\"상담사답변\"])\n",
    "for i in range(len(json_data)):\n",
    "    if json_data[i][\"화자\"] == \"고객\":\n",
    "        if json_data[i][\"고객질문(요청)\"] is not '':\n",
    "            QQQ.append(json_data[i][\"고객질문(요청)\"])"
   ]
  },
  {
   "cell_type": "code",
   "execution_count": 94,
   "id": "ca7ffd1a",
   "metadata": {},
   "outputs": [],
   "source": [
    "QQQ = []\n",
    "AAA = []\n",
    "for i in range(len(json_data)):\n",
    "    if json_data[i][\"화자\"] == \"상담사\":\n",
    "        AAA.append(json_data[i][\"상담사답변\"])\n",
    "for i in range(len(json_data)):\n",
    "    if json_data[i][\"화자\"] == \"고객\":\n",
    "        QQQ.append(json_data[i][\"고객질문(요청)\"])"
   ]
  },
  {
   "cell_type": "code",
   "execution_count": 96,
   "id": "5c108651",
   "metadata": {},
   "outputs": [
    {
     "data": {
      "text/plain": [
       "4920"
      ]
     },
     "execution_count": 96,
     "metadata": {},
     "output_type": "execute_result"
    }
   ],
   "source": [
    "len(QQQ)"
   ]
  },
  {
   "cell_type": "code",
   "execution_count": 93,
   "id": "d3b7cf29",
   "metadata": {},
   "outputs": [
    {
     "name": "stdout",
     "output_type": "stream",
     "text": [
      "                                 c\n",
      "0               코로나 검사결과는 언제 나와요? \n",
      "1                결과는 어떻게 알 수 있어요? \n",
      "2          하루가 지나도 연락이 안오면 어떻게 해요?\n",
      "3                                 \n",
      "4     친구 아버지가 돌아가셨는데 장례식장에 가도 돼요? \n",
      "...                            ...\n",
      "4915                   어떤 바이러스인가요?\n",
      "4916     사람에게 전파가능한 바이러스는 몇종이 있나요?\n",
      "4917                     자세히 알려주세요\n",
      "4918          사스유사바이러스와 얼마나 일치하나요?\n",
      "4919   사스바이러스도 중국에서 발병한걸도 아는데 맞나요?\n",
      "\n",
      "[4920 rows x 1 columns]\n"
     ]
    },
    {
     "data": {
      "text/html": [
       "<div>\n",
       "<style scoped>\n",
       "    .dataframe tbody tr th:only-of-type {\n",
       "        vertical-align: middle;\n",
       "    }\n",
       "\n",
       "    .dataframe tbody tr th {\n",
       "        vertical-align: top;\n",
       "    }\n",
       "\n",
       "    .dataframe thead th {\n",
       "        text-align: right;\n",
       "    }\n",
       "</style>\n",
       "<table border=\"1\" class=\"dataframe\">\n",
       "  <thead>\n",
       "    <tr style=\"text-align: right;\">\n",
       "      <th></th>\n",
       "      <th>a</th>\n",
       "    </tr>\n",
       "  </thead>\n",
       "  <tbody>\n",
       "    <tr>\n",
       "      <th>0</th>\n",
       "      <td>6시간에서 하루 정도 소요됩니다.</td>\n",
       "    </tr>\n",
       "    <tr>\n",
       "      <th>1</th>\n",
       "      <td>문자로 양성, 음성 여부를 알려줍니다. .</td>\n",
       "    </tr>\n",
       "    <tr>\n",
       "      <th>2</th>\n",
       "      <td>검사 받으신 진료소로 전화주셔서 확인하시면 됩니다.</td>\n",
       "    </tr>\n",
       "    <tr>\n",
       "      <th>3</th>\n",
       "      <td>가셔도 되지만, 가급적 사람들이 많이 모이는 곳은 피하시는 것이 좋습니다.</td>\n",
       "    </tr>\n",
       "    <tr>\n",
       "      <th>4</th>\n",
       "      <td>마스크는 꼭 착용하셔야 합니다.</td>\n",
       "    </tr>\n",
       "    <tr>\n",
       "      <th>...</th>\n",
       "      <td>...</td>\n",
       "    </tr>\n",
       "    <tr>\n",
       "      <th>4771</th>\n",
       "      <td>동물및 사람에게 전파될수있는바이러스입니다</td>\n",
       "    </tr>\n",
       "    <tr>\n",
       "      <th>4772</th>\n",
       "      <td>코로나바이러스는 기존에 6종이 알려져 있습니다</td>\n",
       "    </tr>\n",
       "    <tr>\n",
       "      <th>4773</th>\n",
       "      <td>4종은 감기와 같은 질병을 일이키는 바이러스이며 2종은 메르스-Cov,사스-CoV로...</td>\n",
       "    </tr>\n",
       "    <tr>\n",
       "      <th>4774</th>\n",
       "      <td>89.1%입니다</td>\n",
       "    </tr>\n",
       "    <tr>\n",
       "      <th>4775</th>\n",
       "      <td>네 맞습니다</td>\n",
       "    </tr>\n",
       "  </tbody>\n",
       "</table>\n",
       "<p>4776 rows × 1 columns</p>\n",
       "</div>"
      ],
      "text/plain": [
       "                                                      a\n",
       "0                                   6시간에서 하루 정도 소요됩니다. \n",
       "1                              문자로 양성, 음성 여부를 알려줍니다. . \n",
       "2                         검사 받으신 진료소로 전화주셔서 확인하시면 됩니다. \n",
       "3            가셔도 되지만, 가급적 사람들이 많이 모이는 곳은 피하시는 것이 좋습니다. \n",
       "4                                    마스크는 꼭 착용하셔야 합니다. \n",
       "...                                                 ...\n",
       "4771                             동물및 사람에게 전파될수있는바이러스입니다\n",
       "4772                          코로나바이러스는 기존에 6종이 알려져 있습니다\n",
       "4773  4종은 감기와 같은 질병을 일이키는 바이러스이며 2종은 메르스-Cov,사스-CoV로...\n",
       "4774                                           89.1%입니다\n",
       "4775                                             네 맞습니다\n",
       "\n",
       "[4776 rows x 1 columns]"
      ]
     },
     "execution_count": 93,
     "metadata": {},
     "output_type": "execute_result"
    }
   ],
   "source": [
    "import pandas as pd\n",
    "df3 = pd.DataFrame(QQQ,columns=['c'])\n",
    "print(df3)\n",
    "df2 = pd.DataFrame(AAA,columns=['a'])\n",
    "df2"
   ]
  },
  {
   "cell_type": "code",
   "execution_count": 41,
   "id": "cbd8c29b",
   "metadata": {},
   "outputs": [
    {
     "name": "stdout",
     "output_type": "stream",
     "text": [
      "NULL이야\n"
     ]
    },
    {
     "name": "stderr",
     "output_type": "stream",
     "text": [
      "<>:1: SyntaxWarning: \"is not\" with a literal. Did you mean \"!=\"?\n",
      "<>:1: SyntaxWarning: \"is not\" with a literal. Did you mean \"!=\"?\n",
      "<ipython-input-41-1662dfa3cbef>:1: SyntaxWarning: \"is not\" with a literal. Did you mean \"!=\"?\n",
      "  if json_data[1][\"상담사질문(요청)\"] is not '':\n"
     ]
    }
   ],
   "source": [
    "if json_data[1][\"상담사질문(요청)\"] is not '':\n",
    "    print(\"NULL 아님\")\n",
    "else:\n",
    "    print(\"NULL이야\")"
   ]
  },
  {
   "cell_type": "code",
   "execution_count": null,
   "id": "b8db643d",
   "metadata": {},
   "outputs": [],
   "source": []
  },
  {
   "cell_type": "code",
   "execution_count": 19,
   "id": "ff166193",
   "metadata": {},
   "outputs": [],
   "source": [
    "for i in range(len(json_data)):\n",
    "    json_data[i"
   ]
  },
  {
   "cell_type": "code",
   "execution_count": 16,
   "id": "f68b1911",
   "metadata": {},
   "outputs": [
    {
     "data": {
      "text/plain": [
       "9696"
      ]
     },
     "execution_count": 16,
     "metadata": {},
     "output_type": "execute_result"
    }
   ],
   "source": [
    "len(json_data)"
   ]
  },
  {
   "cell_type": "code",
   "execution_count": 106,
   "id": "febddcb8",
   "metadata": {},
   "outputs": [
    {
     "data": {
      "text/html": [
       "<div>\n",
       "<style scoped>\n",
       "    .dataframe tbody tr th:only-of-type {\n",
       "        vertical-align: middle;\n",
       "    }\n",
       "\n",
       "    .dataframe tbody tr th {\n",
       "        vertical-align: top;\n",
       "    }\n",
       "\n",
       "    .dataframe thead th {\n",
       "        text-align: right;\n",
       "    }\n",
       "</style>\n",
       "<table border=\"1\" class=\"dataframe\">\n",
       "  <thead>\n",
       "    <tr style=\"text-align: right;\">\n",
       "      <th></th>\n",
       "      <th>도메인</th>\n",
       "      <th>카테고리</th>\n",
       "      <th>대화셋일련번호</th>\n",
       "      <th>화자</th>\n",
       "      <th>문장번호</th>\n",
       "      <th>고객의도</th>\n",
       "      <th>상담사의도</th>\n",
       "      <th>QA</th>\n",
       "      <th>고객질문(요청)</th>\n",
       "      <th>상담사질문(요청)</th>\n",
       "      <th>고객답변</th>\n",
       "      <th>상담사답변</th>\n",
       "      <th>개체명</th>\n",
       "      <th>용어사전</th>\n",
       "      <th>지식베이스</th>\n",
       "    </tr>\n",
       "  </thead>\n",
       "  <tbody>\n",
       "    <tr>\n",
       "      <th>0</th>\n",
       "      <td>질병관리본부</td>\n",
       "      <td>약품/식품</td>\n",
       "      <td>C4</td>\n",
       "      <td>고객</td>\n",
       "      <td>1</td>\n",
       "      <td>검사 결과</td>\n",
       "      <td></td>\n",
       "      <td>Q</td>\n",
       "      <td>코로나 검사결과는 언제 나와요?</td>\n",
       "      <td></td>\n",
       "      <td></td>\n",
       "      <td></td>\n",
       "      <td>코로나, 검사 결과, 언제</td>\n",
       "      <td>코로나/코비드19/질병/ 언제/시기</td>\n",
       "      <td>검사결과,시기</td>\n",
       "    </tr>\n",
       "    <tr>\n",
       "      <th>1</th>\n",
       "      <td>질병관리본부</td>\n",
       "      <td>약품/식품</td>\n",
       "      <td>C4</td>\n",
       "      <td>상담사</td>\n",
       "      <td>2</td>\n",
       "      <td></td>\n",
       "      <td>검사 결과</td>\n",
       "      <td>A</td>\n",
       "      <td></td>\n",
       "      <td></td>\n",
       "      <td></td>\n",
       "      <td>6시간에서 하루 정도 소요됩니다.</td>\n",
       "      <td>6시간, 하루, 정도, 소요</td>\n",
       "      <td>6시간/시간/ 하루/시간</td>\n",
       "      <td>하루,시간</td>\n",
       "    </tr>\n",
       "    <tr>\n",
       "      <th>2</th>\n",
       "      <td>질병관리본부</td>\n",
       "      <td>약품/식품</td>\n",
       "      <td>C4</td>\n",
       "      <td>고객</td>\n",
       "      <td>3</td>\n",
       "      <td>검사 결과</td>\n",
       "      <td></td>\n",
       "      <td>Q</td>\n",
       "      <td>결과는 어떻게 알 수 있어요?</td>\n",
       "      <td></td>\n",
       "      <td></td>\n",
       "      <td></td>\n",
       "      <td>결과</td>\n",
       "      <td>코로나검사/검사결과/코로나/질병</td>\n",
       "      <td>결과,질병</td>\n",
       "    </tr>\n",
       "    <tr>\n",
       "      <th>3</th>\n",
       "      <td>질병관리본부</td>\n",
       "      <td>약품/식품</td>\n",
       "      <td>C4</td>\n",
       "      <td>상담사</td>\n",
       "      <td>4</td>\n",
       "      <td></td>\n",
       "      <td>검사 결과</td>\n",
       "      <td>A</td>\n",
       "      <td></td>\n",
       "      <td></td>\n",
       "      <td></td>\n",
       "      <td>문자로 양성, 음성 여부를 알려줍니다. .</td>\n",
       "      <td>문자, 양성, 음성, 여부</td>\n",
       "      <td>검사/선별진료소/마스크/보건소</td>\n",
       "      <td>양성,보건소</td>\n",
       "    </tr>\n",
       "    <tr>\n",
       "      <th>4</th>\n",
       "      <td>질병관리본부</td>\n",
       "      <td>약품/식품</td>\n",
       "      <td>C4</td>\n",
       "      <td>고객</td>\n",
       "      <td>5</td>\n",
       "      <td>검사 결과</td>\n",
       "      <td></td>\n",
       "      <td>Q</td>\n",
       "      <td>하루가 지나도 연락이 안오면 어떻게 해요?</td>\n",
       "      <td></td>\n",
       "      <td></td>\n",
       "      <td></td>\n",
       "      <td>하루, 연락</td>\n",
       "      <td>하루/시간</td>\n",
       "      <td>연락,시간</td>\n",
       "    </tr>\n",
       "    <tr>\n",
       "      <th>...</th>\n",
       "      <td>...</td>\n",
       "      <td>...</td>\n",
       "      <td>...</td>\n",
       "      <td>...</td>\n",
       "      <td>...</td>\n",
       "      <td>...</td>\n",
       "      <td>...</td>\n",
       "      <td>...</td>\n",
       "      <td>...</td>\n",
       "      <td>...</td>\n",
       "      <td>...</td>\n",
       "      <td>...</td>\n",
       "      <td>...</td>\n",
       "      <td>...</td>\n",
       "      <td>...</td>\n",
       "    </tr>\n",
       "    <tr>\n",
       "      <th>9691</th>\n",
       "      <td>질병관리본부</td>\n",
       "      <td>약품/식품</td>\n",
       "      <td>C27746</td>\n",
       "      <td>상담사</td>\n",
       "      <td>16</td>\n",
       "      <td></td>\n",
       "      <td>코로나19</td>\n",
       "      <td>A</td>\n",
       "      <td></td>\n",
       "      <td></td>\n",
       "      <td></td>\n",
       "      <td>4종은 감기와 같은 질병을 일이키는 바이러스이며 2종은 메르스-Cov,사스-CoV로...</td>\n",
       "      <td>감기,질병,메르스,사스</td>\n",
       "      <td>감기/증상, 질병/병, 메르스/질병, 사스/질병</td>\n",
       "      <td>질병</td>\n",
       "    </tr>\n",
       "    <tr>\n",
       "      <th>9692</th>\n",
       "      <td>질병관리본부</td>\n",
       "      <td>약품/식품</td>\n",
       "      <td>C27746</td>\n",
       "      <td>고객</td>\n",
       "      <td>17</td>\n",
       "      <td>코로나19</td>\n",
       "      <td></td>\n",
       "      <td>Q</td>\n",
       "      <td>사스유사바이러스와 얼마나 일치하나요?</td>\n",
       "      <td></td>\n",
       "      <td></td>\n",
       "      <td></td>\n",
       "      <td>사스바이러스</td>\n",
       "      <td>사스바이러스/질병</td>\n",
       "      <td>사스바이러스,질병</td>\n",
       "    </tr>\n",
       "    <tr>\n",
       "      <th>9693</th>\n",
       "      <td>질병관리본부</td>\n",
       "      <td>약품/식품</td>\n",
       "      <td>C27746</td>\n",
       "      <td>상담사</td>\n",
       "      <td>18</td>\n",
       "      <td></td>\n",
       "      <td>코로나19</td>\n",
       "      <td>A</td>\n",
       "      <td></td>\n",
       "      <td></td>\n",
       "      <td></td>\n",
       "      <td>89.1%입니다</td>\n",
       "      <td>0</td>\n",
       "      <td></td>\n",
       "      <td>0.891</td>\n",
       "    </tr>\n",
       "    <tr>\n",
       "      <th>9694</th>\n",
       "      <td>질병관리본부</td>\n",
       "      <td>약품/식품</td>\n",
       "      <td>C27746</td>\n",
       "      <td>고객</td>\n",
       "      <td>19</td>\n",
       "      <td>코로나19</td>\n",
       "      <td></td>\n",
       "      <td>Q</td>\n",
       "      <td>사스바이러스도 중국에서 발병한걸도 아는데 맞나요?</td>\n",
       "      <td></td>\n",
       "      <td></td>\n",
       "      <td></td>\n",
       "      <td>사스,중국,바이러스</td>\n",
       "      <td>중국/국가, 사스/질병</td>\n",
       "      <td>중국,질병</td>\n",
       "    </tr>\n",
       "    <tr>\n",
       "      <th>9695</th>\n",
       "      <td>질병관리본부</td>\n",
       "      <td>약품/식품</td>\n",
       "      <td>C27746</td>\n",
       "      <td>상담사</td>\n",
       "      <td>20</td>\n",
       "      <td></td>\n",
       "      <td>코로나19</td>\n",
       "      <td>A</td>\n",
       "      <td></td>\n",
       "      <td></td>\n",
       "      <td></td>\n",
       "      <td>네 맞습니다</td>\n",
       "      <td></td>\n",
       "      <td></td>\n",
       "      <td></td>\n",
       "    </tr>\n",
       "  </tbody>\n",
       "</table>\n",
       "<p>9696 rows × 15 columns</p>\n",
       "</div>"
      ],
      "text/plain": [
       "         도메인   카테고리 대화셋일련번호   화자 문장번호   고객의도  상담사의도 QA  \\\n",
       "0     질병관리본부  약품/식품      C4   고객    1  검사 결과         Q   \n",
       "1     질병관리본부  약품/식품      C4  상담사    2         검사 결과  A   \n",
       "2     질병관리본부  약품/식품      C4   고객    3  검사 결과         Q   \n",
       "3     질병관리본부  약품/식품      C4  상담사    4         검사 결과  A   \n",
       "4     질병관리본부  약품/식품      C4   고객    5  검사 결과         Q   \n",
       "...      ...    ...     ...  ...  ...    ...    ... ..   \n",
       "9691  질병관리본부  약품/식품  C27746  상담사   16         코로나19  A   \n",
       "9692  질병관리본부  약품/식품  C27746   고객   17  코로나19         Q   \n",
       "9693  질병관리본부  약품/식품  C27746  상담사   18         코로나19  A   \n",
       "9694  질병관리본부  약품/식품  C27746   고객   19  코로나19         Q   \n",
       "9695  질병관리본부  약품/식품  C27746  상담사   20         코로나19  A   \n",
       "\n",
       "                         고객질문(요청) 상담사질문(요청) 고객답변  \\\n",
       "0              코로나 검사결과는 언제 나와요?                   \n",
       "1                                                  \n",
       "2               결과는 어떻게 알 수 있어요?                   \n",
       "3                                                  \n",
       "4         하루가 지나도 연락이 안오면 어떻게 해요?                  \n",
       "...                           ...       ...  ...   \n",
       "9691                                               \n",
       "9692         사스유사바이러스와 얼마나 일치하나요?                  \n",
       "9693                                               \n",
       "9694  사스바이러스도 중국에서 발병한걸도 아는데 맞나요?                  \n",
       "9695                                               \n",
       "\n",
       "                                                  상담사답변             개체명   \\\n",
       "0                                                         코로나, 검사 결과, 언제   \n",
       "1                                   6시간에서 하루 정도 소요됩니다.   6시간, 하루, 정도, 소요   \n",
       "2                                                                     결과   \n",
       "3                              문자로 양성, 음성 여부를 알려줍니다. .    문자, 양성, 음성, 여부   \n",
       "4                                                                 하루, 연락   \n",
       "...                                                 ...              ...   \n",
       "9691  4종은 감기와 같은 질병을 일이키는 바이러스이며 2종은 메르스-Cov,사스-CoV로...     감기,질병,메르스,사스   \n",
       "9692                                                              사스바이러스   \n",
       "9693                                           89.1%입니다                0   \n",
       "9694                                                          사스,중국,바이러스   \n",
       "9695                                             네 맞습니다                    \n",
       "\n",
       "                            용어사전      지식베이스  \n",
       "0            코로나/코비드19/질병/ 언제/시기    검사결과,시기  \n",
       "1                  6시간/시간/ 하루/시간      하루,시간  \n",
       "2              코로나검사/검사결과/코로나/질병      결과,질병  \n",
       "3               검사/선별진료소/마스크/보건소     양성,보건소  \n",
       "4                          하루/시간      연락,시간  \n",
       "...                          ...        ...  \n",
       "9691  감기/증상, 질병/병, 메르스/질병, 사스/질병         질병  \n",
       "9692                   사스바이러스/질병  사스바이러스,질병  \n",
       "9693                                  0.891  \n",
       "9694                중국/국가, 사스/질병      중국,질병  \n",
       "9695                                         \n",
       "\n",
       "[9696 rows x 15 columns]"
      ]
     },
     "execution_count": 106,
     "metadata": {},
     "output_type": "execute_result"
    }
   ],
   "source": [
    "df = pd.json_normalize(json_data)\n",
    "df"
   ]
  }
 ],
 "metadata": {
  "kernelspec": {
   "display_name": "Python 3",
   "language": "python",
   "name": "python3"
  },
  "language_info": {
   "codemirror_mode": {
    "name": "ipython",
    "version": 3
   },
   "file_extension": ".py",
   "mimetype": "text/x-python",
   "name": "python",
   "nbconvert_exporter": "python",
   "pygments_lexer": "ipython3",
   "version": "3.8.10"
  }
 },
 "nbformat": 4,
 "nbformat_minor": 5
}
